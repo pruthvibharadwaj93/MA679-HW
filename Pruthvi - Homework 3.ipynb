{
 "cells": [
  {
   "cell_type": "markdown",
   "id": "38b489b0",
   "metadata": {},
   "source": [
    "# Classification Homework"
   ]
  },
  {
   "cell_type": "markdown",
   "id": "c9060a75",
   "metadata": {},
   "source": [
    "#### Pruthvi Bharadwaj"
   ]
  },
  {
   "cell_type": "markdown",
   "id": "bd49da5f",
   "metadata": {},
   "source": [
    "##### 4.6. \n",
    "Suppose we collect data for a group of students in a statistics class with variables X1 = hours studied, X2 = undergrad GPA, and Y = receive an A. We fit a logistic regression and produce estimated coefficient, βˆ0 = −6, βˆ1 = 0.05, βˆ2 = 1."
   ]
  },
  {
   "cell_type": "markdown",
   "id": "0470412b",
   "metadata": {},
   "source": [
    "(a) Estimate the probability that a student who studies for 40 h and has an undergrad GPA of 3.5 gets an A in the class."
   ]
  },
  {
   "cell_type": "markdown",
   "id": "3fbd3e7d",
   "metadata": {},
   "source": [
    "Since $\\beta_0$ = −6, $\\beta_1$ = 0.05, $\\beta_2$ = 1, $X_1$ = 40, $X_2$= 3.5\n",
    "\n",
    "$p(X) = \\frac {\\exp(\\beta_0 + \\beta_1 X_1 + \\beta_2 X_2)}\n",
    "             {1 + \\exp(\\beta_0 + \\beta_1 X_1 + \\beta_2 X_2)}$\n",
    "             \n",
    "$\\ \\ \\ \\ \\ \\ \\ \\  = \\frac {\\exp(-6 + 0.05*40 + 3.5)} {1 + \\exp(-6 + 0.05*40 + 3.5)} = 37.75\\%$\n"
   ]
  },
  {
   "cell_type": "markdown",
   "id": "be782b53",
   "metadata": {},
   "source": [
    "(b) How many hours would the student in part (a) need to study to have a 50 % chance of getting an A in the class?"
   ]
  },
  {
   "cell_type": "markdown",
   "id": "b2befe2c",
   "metadata": {},
   "source": [
    "$p(X) = 0.5  = \\frac {\\exp(-6 + 0.05 X_1 + 3.5)} {1 + \\exp(-6 + 0.05 X_1 + 3.5)} $\n",
    "             \n",
    "We obtain $ X_1 = 50$"
   ]
  },
  {
   "cell_type": "markdown",
   "id": "1c37b07e",
   "metadata": {},
   "source": [
    "##### 4.8. \n",
    "Suppose that we take a data set, divide it into equally-sized training and test sets, and then try out two different classification procedures.First we use logistic regression and get an error rate of 20 % on the training data and 30 % on the test data. Next we use 1-nearest neigh- bors (i.e. K = 1) and get an average error rate (averaged over both test and training data sets) of 18%. Based on these results, which method should we prefer to use for classification of new observations? Why?\n"
   ]
  },
  {
   "cell_type": "markdown",
   "id": "a0a9a4bb",
   "metadata": {},
   "source": [
    "Using KNN(K=1), the training error rate would be 0% becuase the result would always be the training point itself. Since the averaged error rate over both test and training data sets, we obtain test error rate as 18%*2-0% = 36%. Thus, logistic regression provides us a better test error rate."
   ]
  },
  {
   "cell_type": "markdown",
   "id": "49520f83",
   "metadata": {},
   "source": [
    "##### 4.9. \n",
    "\n",
    "This problem has to do with odds."
   ]
  },
  {
   "cell_type": "markdown",
   "id": "df0c50c0",
   "metadata": {},
   "source": [
    "(a) On average, what fraction of people with an odds of 0.37 of\n",
    "defaulting on their credit card payment will in fact default?"
   ]
  },
  {
   "cell_type": "markdown",
   "id": "97c4e951",
   "metadata": {},
   "source": [
    "$\\frac{P(X)}{1-P(X)} = 0.37$\n",
    "\n",
    "We obtain, $P(X) = 0.27$"
   ]
  },
  {
   "cell_type": "markdown",
   "id": "2246f918",
   "metadata": {},
   "source": [
    "(b) Suppose that an individual has a 16% chance of defaulting on her credit card payment. What are the odds that she will default?"
   ]
  },
  {
   "cell_type": "markdown",
   "id": "a49a1887",
   "metadata": {},
   "source": [
    "$\\frac{P(X)}{1-P(X)} = \\frac{0.16}{1-0.16} = 0.19$"
   ]
  },
  {
   "cell_type": "markdown",
   "id": "48e38013",
   "metadata": {},
   "source": [
    "##### 4.13.\n",
    "\n",
    "This question should be answered using the Weekly data set, which is part of the ISLR2 package. This data is similar in nature to the Smarket data from this chapter’s lab, except that it contains 1, 089 weekly returns for 21 years, from the beginning of 1990 to the end of 2010."
   ]
  },
  {
   "cell_type": "code",
   "execution_count": 58,
   "id": "7092235b",
   "metadata": {},
   "outputs": [],
   "source": [
    "import numpy as np\n",
    "import pandas as pd\n",
    "import statsmodels.api as sm\n",
    "import matplotlib.pyplot as plt\n",
    "import math\n",
    "from sklearn.preprocessing import scale\n",
    "import sklearn.linear_model as skl_lm\n",
    "from sklearn.metrics import mean_squared_error, r2_score\n",
    "import statsmodels.formula.api as smf\n",
    "from numpy import corrcoef\n",
    "from pandas.plotting import scatter_matrix\n",
    "from statsmodels.stats.outliers_influence import OLSInfluence\n",
    "from statsmodels.graphics.regressionplots import plot_leverage_resid2\n",
    "import seaborn as sns\n",
    "from sklearn.discriminant_analysis import LinearDiscriminantAnalysis as LDA\n",
    "from sklearn.discriminant_analysis import QuadraticDiscriminantAnalysis as QDA\n",
    "from sklearn.neighbors import KNeighborsClassifier\n",
    "from sklearn.preprocessing import scale\n",
    "from scipy import stats\n",
    "from sklearn.datasets import load_boston\n",
    "from sklearn.naive_bayes import GaussianNB"
   ]
  },
  {
   "cell_type": "markdown",
   "id": "78420d95",
   "metadata": {},
   "source": [
    "(a) Produce some numerical and graphical summaries of the Weekly data. Do there appear to be any patterns?"
   ]
  },
  {
   "cell_type": "code",
   "execution_count": 16,
   "id": "c7cb2f3d",
   "metadata": {},
   "outputs": [
    {
     "name": "stdout",
     "output_type": "stream",
     "text": [
      "There are 1089 rows and  9 columns in Weekly dataset.\n"
     ]
    },
    {
     "data": {
      "text/html": [
       "<div>\n",
       "<style scoped>\n",
       "    .dataframe tbody tr th:only-of-type {\n",
       "        vertical-align: middle;\n",
       "    }\n",
       "\n",
       "    .dataframe tbody tr th {\n",
       "        vertical-align: top;\n",
       "    }\n",
       "\n",
       "    .dataframe thead th {\n",
       "        text-align: right;\n",
       "    }\n",
       "</style>\n",
       "<table border=\"1\" class=\"dataframe\">\n",
       "  <thead>\n",
       "    <tr style=\"text-align: right;\">\n",
       "      <th></th>\n",
       "      <th>Year</th>\n",
       "      <th>Lag1</th>\n",
       "      <th>Lag2</th>\n",
       "      <th>Lag3</th>\n",
       "      <th>Lag4</th>\n",
       "      <th>Lag5</th>\n",
       "      <th>Volume</th>\n",
       "      <th>Today</th>\n",
       "      <th>Direction</th>\n",
       "    </tr>\n",
       "  </thead>\n",
       "  <tbody>\n",
       "    <tr>\n",
       "      <th>0</th>\n",
       "      <td>1990</td>\n",
       "      <td>0.816</td>\n",
       "      <td>1.572</td>\n",
       "      <td>-3.936</td>\n",
       "      <td>-0.229</td>\n",
       "      <td>-3.484</td>\n",
       "      <td>0.154976</td>\n",
       "      <td>-0.270</td>\n",
       "      <td>Down</td>\n",
       "    </tr>\n",
       "    <tr>\n",
       "      <th>1</th>\n",
       "      <td>1990</td>\n",
       "      <td>-0.270</td>\n",
       "      <td>0.816</td>\n",
       "      <td>1.572</td>\n",
       "      <td>-3.936</td>\n",
       "      <td>-0.229</td>\n",
       "      <td>0.148574</td>\n",
       "      <td>-2.576</td>\n",
       "      <td>Down</td>\n",
       "    </tr>\n",
       "    <tr>\n",
       "      <th>2</th>\n",
       "      <td>1990</td>\n",
       "      <td>-2.576</td>\n",
       "      <td>-0.270</td>\n",
       "      <td>0.816</td>\n",
       "      <td>1.572</td>\n",
       "      <td>-3.936</td>\n",
       "      <td>0.159837</td>\n",
       "      <td>3.514</td>\n",
       "      <td>Up</td>\n",
       "    </tr>\n",
       "    <tr>\n",
       "      <th>3</th>\n",
       "      <td>1990</td>\n",
       "      <td>3.514</td>\n",
       "      <td>-2.576</td>\n",
       "      <td>-0.270</td>\n",
       "      <td>0.816</td>\n",
       "      <td>1.572</td>\n",
       "      <td>0.161630</td>\n",
       "      <td>0.712</td>\n",
       "      <td>Up</td>\n",
       "    </tr>\n",
       "    <tr>\n",
       "      <th>4</th>\n",
       "      <td>1990</td>\n",
       "      <td>0.712</td>\n",
       "      <td>3.514</td>\n",
       "      <td>-2.576</td>\n",
       "      <td>-0.270</td>\n",
       "      <td>0.816</td>\n",
       "      <td>0.153728</td>\n",
       "      <td>1.178</td>\n",
       "      <td>Up</td>\n",
       "    </tr>\n",
       "  </tbody>\n",
       "</table>\n",
       "</div>"
      ],
      "text/plain": [
       "   Year   Lag1   Lag2   Lag3   Lag4   Lag5    Volume  Today Direction\n",
       "0  1990  0.816  1.572 -3.936 -0.229 -3.484  0.154976 -0.270      Down\n",
       "1  1990 -0.270  0.816  1.572 -3.936 -0.229  0.148574 -2.576      Down\n",
       "2  1990 -2.576 -0.270  0.816  1.572 -3.936  0.159837  3.514        Up\n",
       "3  1990  3.514 -2.576 -0.270  0.816  1.572  0.161630  0.712        Up\n",
       "4  1990  0.712  3.514 -2.576 -0.270  0.816  0.153728  1.178        Up"
      ]
     },
     "execution_count": 16,
     "metadata": {},
     "output_type": "execute_result"
    }
   ],
   "source": [
    "wk = pd.read_csv('/Users/pruthvibharadwaj/Desktop/Spring 22/MA679 - ML/Homework/Weekly.csv')\n",
    "print( \"There are\", wk.shape[0], \"rows and \", wk.shape[1], \"columns in Weekly dataset.\" )\n",
    "wk.head()"
   ]
  },
  {
   "cell_type": "code",
   "execution_count": 73,
   "id": "d0c17134",
   "metadata": {},
   "outputs": [
    {
     "name": "stderr",
     "output_type": "stream",
     "text": [
      "/Users/pruthvibharadwaj/opt/anaconda3/lib/python3.8/site-packages/seaborn/_decorators.py:36: FutureWarning: Pass the following variables as keyword args: x, y. From version 0.12, the only valid positional argument will be `data`, and passing other arguments without an explicit keyword will result in an error or misinterpretation.\n",
      "  warnings.warn(\n"
     ]
    },
    {
     "data": {
      "text/plain": [
       "<AxesSubplot:xlabel='Direction', ylabel='Volume'>"
      ]
     },
     "execution_count": 73,
     "metadata": {},
     "output_type": "execute_result"
    },
    {
     "data": {
      "image/png": "[encoded data removed]",
      "text/plain": [
       "<Figure size 1296x288 with 3 Axes>"
      ]
     },
     "metadata": {
      "needs_background": "light"
     },
     "output_type": "display_data"
    }
   ],
   "source": [
    "\n",
    "fig, (ax11,ax22,ax33) = plt.subplots(1,3,figsize=(18,4))\n",
    "\n",
    "\n",
    "\n",
    "#  Volume vs. Year\n",
    "ax11.scatter(wk.Year.values, wk.Volume.values, facecolors='none', edgecolors='b' )\n",
    "ax11.set_xlabel('Year')\n",
    "ax11.set_ylabel('Volume')\n",
    "\n",
    "# Today vs. Year\n",
    "ax22.scatter(wk.Year.values, wk.Today.values, facecolors='none', edgecolors='b' )\n",
    "ax22.set_xlabel('Year')\n",
    "ax22.set_ylabel('Today')\n",
    "\n",
    "\n",
    "# Plot Lag1 vs Today's return\n",
    "c_palette = {'Down':'lightblue', 'Up':'orange'}\n",
    "sns.boxplot('Direction', 'Volume', data=wk, orient='v', ax=ax33, palette=c_palette)\n"
   ]
  },
  {
   "cell_type": "code",
   "execution_count": 74,
   "id": "a15ebb70",
   "metadata": {},
   "outputs": [
    {
     "data": {
      "text/plain": [
       "Text(0, 0.5, 'Today')"
      ]
     },
     "execution_count": 74,
     "metadata": {},
     "output_type": "execute_result"
    },
    {
     "data": {
      "image/png": "[encoded data removed]",
      "text/plain": [
       "<Figure size 1296x288 with 5 Axes>"
      ]
     },
     "metadata": {
      "needs_background": "light"
     },
     "output_type": "display_data"
    }
   ],
   "source": [
    "\n",
    "fig, (ax1,ax2,ax3,ax4,ax5) = plt.subplots(1,5,figsize=(18,4))\n",
    "\n",
    "\n",
    "# Plot Lag1 vs Today\n",
    "ax1.scatter(wk.Lag1.values, wk.Today.values, facecolors='none', edgecolors='b' )\n",
    "ax1.set_xlabel('Lag1 ')\n",
    "ax1.set_ylabel('Today')\n",
    "\n",
    "# Plot Lag2 vs Today\n",
    "ax2.scatter(wk.Lag2.values, wk.Today.values, facecolors='none', edgecolors='b' )\n",
    "ax2.set_xlabel('Lag2')\n",
    "ax2.set_ylabel('Today')\n",
    "\n",
    "\n",
    "# Plot Lag3 vs Today\n",
    "ax3.scatter(wk.Lag3.values, wk.Today.values, facecolors='none', edgecolors='b' )\n",
    "ax3.set_xlabel('Lag3')\n",
    "ax3.set_ylabel('Today')\n",
    "\n",
    "# Plot Lag4 vs Today\n",
    "ax4.scatter(wk.Lag4.values, wk.Today.values, facecolors='none', edgecolors='b' )\n",
    "ax4.set_xlabel('Lag4')\n",
    "ax4.set_ylabel('Today')\n",
    "\n",
    "\n",
    "# Plot Lag5 vs Today\n",
    "ax5.scatter(wk.Lag5.values, wk.Today.values, facecolors='none', edgecolors='b' )\n",
    "ax5.set_xlabel('Lag5')\n",
    "ax5.set_ylabel('Today')"
   ]
  },
  {
   "cell_type": "markdown",
   "id": "3daa69f1",
   "metadata": {},
   "source": [
    "(b) Use the full data set to perform a logistic regression with Direction as the response and the five lag variables plus Volume as predictors. Use the summary function to print the results. Do any of the predictors appear to be statistically significant? If so, which ones?"
   ]
  },
  {
   "cell_type": "code",
   "execution_count": 17,
   "id": "a42c2fc9",
   "metadata": {},
   "outputs": [
    {
     "name": "stdout",
     "output_type": "stream",
     "text": [
      "Optimization terminated successfully.\n",
      "         Current function value: 0.682441\n",
      "         Iterations 4\n",
      "                           Logit Regression Results                           \n",
      "==============================================================================\n",
      "Dep. Variable:                      y   No. Observations:                 1089\n",
      "Model:                          Logit   Df Residuals:                     1082\n",
      "Method:                           MLE   Df Model:                            6\n",
      "Date:                Sun, 06 Feb 2022   Pseudo R-squ.:                0.006580\n",
      "Time:                        21:26:28   Log-Likelihood:                -743.18\n",
      "converged:                       True   LL-Null:                       -748.10\n",
      "Covariance Type:            nonrobust   LLR p-value:                    0.1313\n",
      "==============================================================================\n",
      "                 coef    std err          z      P>|z|      [0.025      0.975]\n",
      "------------------------------------------------------------------------------\n",
      "const          0.2669      0.086      3.106      0.002       0.098       0.435\n",
      "Lag1          -0.0413      0.026     -1.563      0.118      -0.093       0.010\n",
      "Lag2           0.0584      0.027      2.175      0.030       0.006       0.111\n",
      "Lag3          -0.0161      0.027     -0.602      0.547      -0.068       0.036\n",
      "Lag4          -0.0278      0.026     -1.050      0.294      -0.080       0.024\n",
      "Lag5          -0.0145      0.026     -0.549      0.583      -0.066       0.037\n",
      "Volume        -0.0227      0.037     -0.616      0.538      -0.095       0.050\n",
      "==============================================================================\n"
     ]
    }
   ],
   "source": [
    "pred = sm.add_constant(wk[wk.columns[1:7]])\n",
    "dirc = np.array([1 if el=='Up' else 0 for el in wk.Direction.values])\n",
    "\n",
    "q_413_b = sm.Logit(dirc,pred)\n",
    "q_413_b_results = q_413_b.fit()\n",
    "print(q_413_b_results.summary())"
   ]
  },
  {
   "cell_type": "markdown",
   "id": "5369aebe",
   "metadata": {},
   "source": [
    "Only Lag2 has a p<0.05 and is significant"
   ]
  },
  {
   "cell_type": "markdown",
   "id": "bb8d469e",
   "metadata": {},
   "source": [
    "(c) Compute the confusion matrix and overall fraction of correct predictions. Explain what the confusion matrix is telling you about the types of mistakes made by logistic regression."
   ]
  },
  {
   "cell_type": "code",
   "execution_count": 18,
   "id": "5f2813fc",
   "metadata": {},
   "outputs": [
    {
     "name": "stdout",
     "output_type": "stream",
     "text": [
      "       Down     Up\n",
      "Down   54.0   48.0\n",
      "Up    430.0  557.0\n",
      "\n",
      "\n",
      "Error Rate = 0.43893480257116624\n"
     ]
    }
   ],
   "source": [
    "dirc_predicted = q_413_b_results.predict(pred)\n",
    "dirc_predicted= np.array(dirc_predicted > 0.5, dtype=float)\n",
    "Ctable = np.histogram2d(dirc_predicted, dirc, bins=2)[0]\n",
    "print(pd.DataFrame(Ctable, ['Down', 'Up'], ['Down', 'Up']))\n",
    "print('\\n')\n",
    "print('Error Rate =', 1-(Ctable[0,0]+Ctable[1,1])/np.sum(Ctable))"
   ]
  },
  {
   "cell_type": "markdown",
   "id": "9a380f82",
   "metadata": {},
   "source": [
    "precision  = $\\frac{557}{430+557}$ = $56\\%$\n",
    "\n",
    "type one error (false positive rate) = $\\frac{430}{430+54} = 89\\%$ \n",
    "\n",
    "type two error (false negative rate) = $\\frac{48}{557+48} = 8\\%$ \n",
    "\n",
    "sensitivity = 100% - 8% = 92%\n",
    "\n",
    "The model has a very high false positive rate."
   ]
  },
  {
   "cell_type": "markdown",
   "id": "7f80814a",
   "metadata": {},
   "source": [
    "(d) Now fit the logistic regression model using a training data period from 1990 to 2008, with Lag2 as the only predictor. Compute the confusion matrix and the overall fraction of correct predictions for the held out data (that is, the data from 2009 and 2010)."
   ]
  },
  {
   "cell_type": "code",
   "execution_count": 19,
   "id": "369b2a64",
   "metadata": {},
   "outputs": [
    {
     "name": "stdout",
     "output_type": "stream",
     "text": [
      "Optimization terminated successfully.\n",
      "         Current function value: 0.685555\n",
      "         Iterations 4\n",
      "                           Logit Regression Results                           \n",
      "==============================================================================\n",
      "Dep. Variable:                      y   No. Observations:                  985\n",
      "Model:                          Logit   Df Residuals:                      983\n",
      "Method:                           MLE   Df Model:                            1\n",
      "Date:                Sun, 06 Feb 2022   Pseudo R-squ.:                0.003076\n",
      "Time:                        21:47:30   Log-Likelihood:                -675.27\n",
      "converged:                       True   LL-Null:                       -677.35\n",
      "Covariance Type:            nonrobust   LLR p-value:                   0.04123\n",
      "==============================================================================\n",
      "                 coef    std err          z      P>|z|      [0.025      0.975]\n",
      "------------------------------------------------------------------------------\n",
      "const          0.2033      0.064      3.162      0.002       0.077       0.329\n",
      "Lag2           0.0581      0.029      2.024      0.043       0.002       0.114\n",
      "==============================================================================\n"
     ]
    }
   ],
   "source": [
    "predTest = sm.add_constant(wk[wk.Year > 2008].Lag2)\n",
    "dircTest = np.array([1 if el=='Up' else 0 for el in wk[wk.Year > 2008].Direction])\n",
    "\n",
    "predTrain = sm.add_constant(wk[wk.Year <= 2008].Lag2)\n",
    "dircTrain = np.array([1 if el=='Up' else 0 for el in wk[wk.Year <= 2008].Direction])\n",
    "\n",
    "q413_c_Train = sm.Logit(dircTrain,predTrain)\n",
    "q413_c_Train_results=q413_c_Train.fit()\n",
    "print(q413_c_Train_results.summary())"
   ]
  },
  {
   "cell_type": "code",
   "execution_count": 20,
   "id": "f4f3c4f2",
   "metadata": {},
   "outputs": [
    {
     "name": "stdout",
     "output_type": "stream",
     "text": [
      "      Down    Up\n",
      "Down   9.0   5.0\n",
      "Up    34.0  56.0\n",
      "\n",
      "\n",
      "Error Rate = 0.375\n"
     ]
    }
   ],
   "source": [
    "dircTrain_predicted = q413_c_Train_results.predict(predTest)\n",
    "dircTrain_predicted= np.array(dircTrain_predicted > 0.5, dtype=float)\n",
    "CtableTrain = np.histogram2d(dircTrain_predicted, dircTest, bins=2)[0]\n",
    "print(pd.DataFrame(CtableTrain, ['Down', 'Up'], ['Down', 'Up']))\n",
    "print('\\n')\n",
    "print('Error Rate =', 1-(CtableTrain[0,0]+CtableTrain[1,1])/np.sum(CtableTrain))"
   ]
  },
  {
   "cell_type": "markdown",
   "id": "57972891",
   "metadata": {},
   "source": [
    "(e) Repeat (d) using LDA."
   ]
  },
  {
   "cell_type": "code",
   "execution_count": 22,
   "id": "ca841984",
   "metadata": {},
   "outputs": [
    {
     "name": "stdout",
     "output_type": "stream",
     "text": [
      "Priors =  [0.44771574 0.55228426]\n",
      "Class Means =  [-0.03568254] [0.26036581]\n",
      "Coefficients =  [[0.05780187]]\n",
      "\n",
      "\n"
     ]
    }
   ],
   "source": [
    "LDAClf = LDA(solver='lsqr', store_covariance=True)\n",
    "\n",
    "PredLDA_train = wk[wk.Year <= 2008].Lag2.values\n",
    "PredLDA_train = PredLDA_train.reshape((len(PredLDA_train),1))\n",
    "\n",
    "PredLDA_test = wk[wk.Year > 2008].Lag2.values\n",
    "PredLDA_test = PredLDA_test.reshape((len(PredLDA_test),1))\n",
    "\n",
    "LDAClf.fit(PredLDA_train, dircTrain)\n",
    "print('Priors = ', LDAClf.priors_ )\n",
    "print('Class Means = ', LDAClf.means_[0], LDAClf.means_[1])\n",
    "print('Coefficients = ', LDAClf.coef_)\n",
    "print('\\n')"
   ]
  },
  {
   "cell_type": "code",
   "execution_count": 23,
   "id": "6c82de8b",
   "metadata": {},
   "outputs": [
    {
     "name": "stdout",
     "output_type": "stream",
     "text": [
      "CONFUSION MATRIX\n",
      "      Down    Up\n",
      "Down   9.0   5.0\n",
      "Up    34.0  56.0\n",
      "\n",
      "\n",
      "Error Rate = 0.375\n"
     ]
    }
   ],
   "source": [
    "\n",
    "dircTrainLDA_predicted = LDAClf.predict(PredLDA_test)\n",
    "dircTrainLDA_predicted= np.array(dircTrainLDA_predicted > 0.5, dtype=float)\n",
    "\n",
    "CtableLDATrain = np.histogram2d(dircTrainLDA_predicted, dircTest, bins=2)[0]\n",
    "print('CONFUSION MATRIX')\n",
    "print(pd.DataFrame(CtableLDATrain, ['Down', 'Up'], ['Down', 'Up']))\n",
    "print('\\n')\n",
    "print('Error Rate =', 1-(CtableLDATrain[0,0]+CtableLDATrain[1,1])/np.sum(CtableLDATrain))"
   ]
  },
  {
   "cell_type": "markdown",
   "id": "da038fdc",
   "metadata": {},
   "source": [
    "(f)Repeat (d) using QDA."
   ]
  },
  {
   "cell_type": "code",
   "execution_count": 24,
   "id": "91a742f1",
   "metadata": {},
   "outputs": [
    {
     "name": "stdout",
     "output_type": "stream",
     "text": [
      "Priors =  [0.44771574 0.55228426]\n",
      "Class Means =  [-0.03568254] [0.26036581]\n",
      "Coeffecients =  [array([[4.83781758]]), array([[5.37073888]])]\n",
      "\n",
      "\n"
     ]
    }
   ],
   "source": [
    "QDAClf = QDA( store_covariance=True)\n",
    "\n",
    "PredQDA_train = wk[wk.Year <= 2008].Lag2.values\n",
    "PredQDA_train = PredQDA_train.reshape((len(PredQDA_train),1))\n",
    "\n",
    "PredQDA_test = wk[wk.Year > 2008].Lag2.values\n",
    "PredQDA_test = PredQDA_test.reshape((len(PredQDA_test),1))\n",
    "\n",
    "QDAClf.fit(PredQDA_train, dircTrain)\n",
    "\n",
    "\n",
    "print('Priors = ', QDAClf.priors_ )\n",
    "print('Class Means = ', QDAClf.means_[0], QDAClf.means_[1])\n",
    "print('Coeffecients = ', QDAClf.covariance_)\n",
    "print('\\n')"
   ]
  },
  {
   "cell_type": "code",
   "execution_count": 25,
   "id": "12497add",
   "metadata": {},
   "outputs": [
    {
     "name": "stdout",
     "output_type": "stream",
     "text": [
      "CONFUSION MATRIX\n",
      "      Down    Up\n",
      "Down   9.0   5.0\n",
      "Up    34.0  56.0\n",
      "\n",
      "\n",
      "Error Rate = 0.41346153846153844\n"
     ]
    }
   ],
   "source": [
    "\n",
    "dircTrainQDA_predicted = QDAClf.predict(PredQDA_test)\n",
    "dircTrainQDA_predicted= np.array(dircTrainQDA_predicted > 0.5, dtype=float)\n",
    "\n",
    "CtableQDATrain = np.histogram2d(dircTrainQDA_predicted, dircTest, bins=2)[0]\n",
    "print('CONFUSION MATRIX')\n",
    "print(pd.DataFrame(CtableLDATrain, ['Down', 'Up'], ['Down', 'Up']))\n",
    "print('\\n')\n",
    "print('Error Rate =', 1-(CtableQDATrain[0,0]+CtableQDATrain[1,1])/np.sum(CtableQDATrain))"
   ]
  },
  {
   "cell_type": "markdown",
   "id": "e39166c3",
   "metadata": {},
   "source": [
    "(g) Repeat (d) using KNN with K = 1."
   ]
  },
  {
   "cell_type": "code",
   "execution_count": 26,
   "id": "171d2843",
   "metadata": {},
   "outputs": [
    {
     "name": "stdout",
     "output_type": "stream",
     "text": [
      "      Down    Up\n",
      "Down  21.0  30.0\n",
      "Up    22.0  31.0\n",
      "\n",
      "Error Rate = 0.5\n"
     ]
    }
   ],
   "source": [
    "KNNClf = KNeighborsClassifier(n_neighbors=1)\n",
    "\n",
    "PredKNN_train = wk[wk.Year <= 2008].Lag2.values\n",
    "PredKNN_train = PredKNN_train.reshape((len(PredKNN_train),1))\n",
    "\n",
    "PredKNN_test = wk[wk.Year > 2008].Lag2.values\n",
    "PredKNN_test = PredKNN_test.reshape((len(PredKNN_test),1))\n",
    "\n",
    "KNNClf.fit(PredKNN_train, dircTrain)\n",
    "\n",
    "dircTrainKNN_predicted = KNNClf.predict(PredKNN_test)\n",
    "\n",
    "CtableKNN = np.histogram2d(dircTrainKNN_predicted, dircTest , bins=2)[0]\n",
    "print(pd.DataFrame(CtableKNN, ['Down', 'Up'], ['Down', 'Up']))\n",
    "print('')\n",
    "print('Error Rate =', 1-(CtableKNN[0,0]+CtableKNN[1,1])/np.sum(CtableKNN))"
   ]
  },
  {
   "cell_type": "markdown",
   "id": "bebc5607",
   "metadata": {},
   "source": [
    "(h) Repeat (d) using naive Bayes."
   ]
  },
  {
   "cell_type": "code",
   "execution_count": 66,
   "id": "720b7b51",
   "metadata": {},
   "outputs": [
    {
     "name": "stdout",
     "output_type": "stream",
     "text": [
      "\n",
      "\n"
     ]
    }
   ],
   "source": [
    "NBVclf = GaussianNB()\n",
    "\n",
    "PredNB_train = wk[wk.Year <= 2008].Lag2.values\n",
    "PredNB_train = PredNB_train.reshape((len(PredNB_train),1))\n",
    "\n",
    "PredNB_test = wk[wk.Year > 2008].Lag2.values\n",
    "PredNB_test = PredNB_test.reshape((len(PredNB_test),1))\n",
    "\n",
    "NBVclf.fit(PredNB_train, dircTrain)\n",
    "\n",
    "#print('Priors = ', NBVclf.priors_ )\n",
    "#print('Class Means = ', NBVclf.means_[0], NBVclf.means_[1])\n",
    "#print('Coeffecients = ', NBVclf.covariance_)\n",
    "print('\\n')"
   ]
  },
  {
   "cell_type": "code",
   "execution_count": 67,
   "id": "1fdf284a",
   "metadata": {},
   "outputs": [
    {
     "name": "stdout",
     "output_type": "stream",
     "text": [
      "CONFUSION MATRIX\n",
      "      Down    Up\n",
      "Down   0.0   0.0\n",
      "Up    43.0  61.0\n",
      "\n",
      "\n",
      "Error Rate = 0.41346153846153844\n"
     ]
    }
   ],
   "source": [
    "dircTrainNB_predicted = NBVclf.predict(PredNB_test)\n",
    "dircTrainNB_predicted= np.array(dircTrainNB_predicted > 0.5, dtype=float)\n",
    "\n",
    "CtableNBTrain = np.histogram2d(dircTrainNB_predicted, dircTest, bins=2)[0]\n",
    "print('CONFUSION MATRIX')\n",
    "print(pd.DataFrame(CtableNBTrain, ['Down', 'Up'], ['Down', 'Up']))\n",
    "print('\\n')\n",
    "print('Error Rate =', 1-(CtableNBTrain[0,0]+CtableNBTrain[1,1])/np.sum(CtableNBTrain))"
   ]
  },
  {
   "cell_type": "markdown",
   "id": "2ed62eec",
   "metadata": {},
   "source": [
    "(i) Which of these methods appears to provide the best results on this data?"
   ]
  },
  {
   "cell_type": "markdown",
   "id": "04b85f65",
   "metadata": {},
   "source": [
    "Comparing error rate, logistic model or LDA models work best.\n"
   ]
  },
  {
   "cell_type": "markdown",
   "id": "6f7cf6d1",
   "metadata": {},
   "source": [
    "(j) Experiment with different combinations of predictors, including possible transformations and interactions, for each of the methods. Report the variables, method, and associated confu- sion matrix that appears to provide the best results on the held out data. Note that you should also experiment with values for K in the KNN classifier."
   ]
  },
  {
   "cell_type": "code",
   "execution_count": null,
   "id": "63f37f76",
   "metadata": {},
   "outputs": [],
   "source": []
  },
  {
   "cell_type": "markdown",
   "id": "ecf30d5e",
   "metadata": {},
   "source": [
    "##### 4.14.\n",
    "In this problem, you will develop a model to predict whether a given car gets high or low gas mileage based on the Auto data set."
   ]
  },
  {
   "cell_type": "markdown",
   "id": "f352dcef",
   "metadata": {},
   "source": [
    "(a) Create a binary variable, mpg01, that contains a 1 if mpg contains a value above its median, and a 0 if mpg contains a value below its median. You can compute the median using the median() function. Note you may find it helpful to use the data.frame() function to create a single data set containing both mpg01 and the other Auto variables."
   ]
  },
  {
   "cell_type": "code",
   "execution_count": 48,
   "id": "6c757930",
   "metadata": {},
   "outputs": [
    {
     "name": "stdout",
     "output_type": "stream",
     "text": [
      "There are 392 rows and  9 columns in Auto dataset.\n"
     ]
    },
    {
     "data": {
      "text/html": [
       "<div>\n",
       "<style scoped>\n",
       "    .dataframe tbody tr th:only-of-type {\n",
       "        vertical-align: middle;\n",
       "    }\n",
       "\n",
       "    .dataframe tbody tr th {\n",
       "        vertical-align: top;\n",
       "    }\n",
       "\n",
       "    .dataframe thead th {\n",
       "        text-align: right;\n",
       "    }\n",
       "</style>\n",
       "<table border=\"1\" class=\"dataframe\">\n",
       "  <thead>\n",
       "    <tr style=\"text-align: right;\">\n",
       "      <th></th>\n",
       "      <th>mpg</th>\n",
       "      <th>cylinders</th>\n",
       "      <th>displacement</th>\n",
       "      <th>horsepower</th>\n",
       "      <th>weight</th>\n",
       "      <th>acceleration</th>\n",
       "      <th>year</th>\n",
       "      <th>origin</th>\n",
       "      <th>name</th>\n",
       "      <th>MPG01</th>\n",
       "    </tr>\n",
       "  </thead>\n",
       "  <tbody>\n",
       "    <tr>\n",
       "      <th>0</th>\n",
       "      <td>18.0</td>\n",
       "      <td>8</td>\n",
       "      <td>307.0</td>\n",
       "      <td>130</td>\n",
       "      <td>3504</td>\n",
       "      <td>12.0</td>\n",
       "      <td>70</td>\n",
       "      <td>1</td>\n",
       "      <td>chevrolet chevelle malibu</td>\n",
       "      <td>False</td>\n",
       "    </tr>\n",
       "    <tr>\n",
       "      <th>1</th>\n",
       "      <td>15.0</td>\n",
       "      <td>8</td>\n",
       "      <td>350.0</td>\n",
       "      <td>165</td>\n",
       "      <td>3693</td>\n",
       "      <td>11.5</td>\n",
       "      <td>70</td>\n",
       "      <td>1</td>\n",
       "      <td>buick skylark 320</td>\n",
       "      <td>False</td>\n",
       "    </tr>\n",
       "    <tr>\n",
       "      <th>2</th>\n",
       "      <td>18.0</td>\n",
       "      <td>8</td>\n",
       "      <td>318.0</td>\n",
       "      <td>150</td>\n",
       "      <td>3436</td>\n",
       "      <td>11.0</td>\n",
       "      <td>70</td>\n",
       "      <td>1</td>\n",
       "      <td>plymouth satellite</td>\n",
       "      <td>False</td>\n",
       "    </tr>\n",
       "    <tr>\n",
       "      <th>3</th>\n",
       "      <td>16.0</td>\n",
       "      <td>8</td>\n",
       "      <td>304.0</td>\n",
       "      <td>150</td>\n",
       "      <td>3433</td>\n",
       "      <td>12.0</td>\n",
       "      <td>70</td>\n",
       "      <td>1</td>\n",
       "      <td>amc rebel sst</td>\n",
       "      <td>False</td>\n",
       "    </tr>\n",
       "    <tr>\n",
       "      <th>4</th>\n",
       "      <td>17.0</td>\n",
       "      <td>8</td>\n",
       "      <td>302.0</td>\n",
       "      <td>140</td>\n",
       "      <td>3449</td>\n",
       "      <td>10.5</td>\n",
       "      <td>70</td>\n",
       "      <td>1</td>\n",
       "      <td>ford torino</td>\n",
       "      <td>False</td>\n",
       "    </tr>\n",
       "  </tbody>\n",
       "</table>\n",
       "</div>"
      ],
      "text/plain": [
       "    mpg  cylinders  displacement  horsepower  weight  acceleration  year  \\\n",
       "0  18.0          8         307.0         130    3504          12.0    70   \n",
       "1  15.0          8         350.0         165    3693          11.5    70   \n",
       "2  18.0          8         318.0         150    3436          11.0    70   \n",
       "3  16.0          8         304.0         150    3433          12.0    70   \n",
       "4  17.0          8         302.0         140    3449          10.5    70   \n",
       "\n",
       "   origin                       name  MPG01  \n",
       "0       1  chevrolet chevelle malibu  False  \n",
       "1       1          buick skylark 320  False  \n",
       "2       1         plymouth satellite  False  \n",
       "3       1              amc rebel sst  False  \n",
       "4       1                ford torino  False  "
      ]
     },
     "execution_count": 48,
     "metadata": {},
     "output_type": "execute_result"
    }
   ],
   "source": [
    "at = pd.read_csv('/Users/pruthvibharadwaj/Desktop/Spring 22/MA679 - ML/Homework/Auto.csv')\n",
    "print( \"There are\", at.shape[0], \"rows and \", at.shape[1], \"columns in Auto dataset.\" )\n",
    "at['MPG01'] = at.mpg > at.mpg.median()\n",
    "at.head()"
   ]
  },
  {
   "cell_type": "markdown",
   "id": "0ce3a201",
   "metadata": {},
   "source": [
    "(b) Explore the data graphically in order to investigate the associ- ation between mpg01 and the other features. Which of the other features seem most likely to be useful in predicting mpg01? Scat- terplots and boxplots may be useful tools to answer this ques- tion. Describe your findings."
   ]
  },
  {
   "cell_type": "code",
   "execution_count": 49,
   "id": "64ec1d00",
   "metadata": {},
   "outputs": [
    {
     "data": {
      "text/plain": [
       "<AxesSubplot:title={'center':'acceleration'}, xlabel='MPG01'>"
      ]
     },
     "execution_count": 49,
     "metadata": {},
     "output_type": "execute_result"
    },
    {
     "data": {
      "image/png": "[encoded data removed]",
      "text/plain": [
       "<Figure size 1296x360 with 4 Axes>"
      ]
     },
     "metadata": {
      "needs_background": "light"
     },
     "output_type": "display_data"
    }
   ],
   "source": [
    "fig, ( ax2, ax3,ax4,ax5) = plt.subplots(1,4, figsize=(18,5))\n",
    "\n",
    "at.boxplot(['displacement'], by='MPG01', ax=ax2)\n",
    "at.boxplot(['horsepower'], by='MPG01', ax=ax3)\n",
    "at.boxplot(['weight'],by='MPG01',ax=ax4)\n",
    "at.boxplot(['acceleration'], by='MPG01', ax=ax5)"
   ]
  },
  {
   "cell_type": "markdown",
   "id": "1ba178ab",
   "metadata": {},
   "source": [
    "(c) Split the data into a training set and a test set."
   ]
  },
  {
   "cell_type": "code",
   "execution_count": 53,
   "id": "a6e92b0a",
   "metadata": {},
   "outputs": [],
   "source": [
    "n_samples = 392\n",
    "\n",
    "rows_sample = np.random.choice([True, False], n_samples)\n",
    "\n",
    "atTrain = at.loc[rows_sample]\n",
    "atTest = at.loc[~rows_sample]\n",
    "\n",
    "predictors = ['displacement','horsepower', 'weight', 'acceleration']\n",
    "pred_train =  atTrain[predictors].values\n",
    "mpg_train = atTrain['MPG01'].values\n",
    "pred_test = atTest[predictors].values\n",
    "mpg_test = atTest['MPG01'].values"
   ]
  },
  {
   "cell_type": "markdown",
   "id": "de1d09dc",
   "metadata": {},
   "source": [
    "(d) Perform LDA on the training data in order to predict mpg01 using the variables that seemed most associated with mpg01 in (b). What is the test error of the model obtained?"
   ]
  },
  {
   "cell_type": "code",
   "execution_count": 54,
   "id": "3d5c681c",
   "metadata": {},
   "outputs": [
    {
     "name": "stdout",
     "output_type": "stream",
     "text": [
      "Class Priors = [0.55080214 0.44919786]\n",
      "Class Means = [ 272.19417476  128.33980583 3609.86407767   14.63300971] [ 115.5952381    79.07142857 2347.14285714   16.43571429]\n",
      "Coeffecients = [[-0.02325203  0.01734384 -0.00194521 -0.0069156 ]]\n",
      "The error rate of the LDA model is  0.0975609756097561\n"
     ]
    }
   ],
   "source": [
    "\n",
    "LDA_clf = LDA(solver='lsqr',store_covariance=True)\n",
    "LDA_clf.fit(pred_train,mpg_train)\n",
    "\n",
    "print('Class Priors =', LDA_clf.priors_)\n",
    "print('Class Means =', LDA_clf.means_[0], LDA_clf.means_[1])\n",
    "print('Coeffecients =', LDA_clf.coef_)\n",
    "\n",
    "\n",
    "mpg_predicted = LDA_clf.predict(pred_test)\n",
    "print('The error rate of the LDA model is ',np.mean(mpg_predicted!=mpg_test))"
   ]
  },
  {
   "cell_type": "markdown",
   "id": "1d628d17",
   "metadata": {},
   "source": [
    "(e)  Perform QDA on the training data in order to predict mpg01 using the variables that seemed most associated with mpg01 in (b). What is the test error of the model obtained?"
   ]
  },
  {
   "cell_type": "code",
   "execution_count": null,
   "id": "63d1487e",
   "metadata": {},
   "outputs": [],
   "source": [
    "QDA_clf = QDA()\n",
    "QDA_clf.fit(pred_train,mpg_train)\n",
    "\n",
    "print('Class Priors =', QDA_clf.priors_)\n",
    "print('Class Means =', QDA_clf.means_[0], QDA_clf.means_[1])\n",
    "\n",
    "mpgqda_predicted = QDA_clf.predict(pred_test)\n",
    "print('The error rate of the QDA model is ',np.mean(mpgqda_predicted!=mpg_test))\n"
   ]
  },
  {
   "cell_type": "markdown",
   "id": "930048ed",
   "metadata": {},
   "source": [
    "(f) Perform logistic regression on the training data in order to pre- dict mpg01 using the variables that seemed most associated with mpg01 in (b). What is the test error of the model obtained?"
   ]
  },
  {
   "cell_type": "code",
   "execution_count": 55,
   "id": "69ad3ffb",
   "metadata": {},
   "outputs": [
    {
     "name": "stdout",
     "output_type": "stream",
     "text": [
      "Optimization terminated successfully.\n",
      "         Current function value: 0.269036\n",
      "         Iterations 8\n",
      "                           Logit Regression Results                           \n",
      "==============================================================================\n",
      "Dep. Variable:                      y   No. Observations:                  187\n",
      "Model:                          Logit   Df Residuals:                      182\n",
      "Method:                           MLE   Df Model:                            4\n",
      "Date:                Sun, 06 Feb 2022   Pseudo R-squ.:                  0.6089\n",
      "Time:                        23:29:39   Log-Likelihood:                -50.310\n",
      "converged:                       True   LL-Null:                       -128.65\n",
      "Covariance Type:            nonrobust   LLR p-value:                 7.517e-33\n",
      "================================================================================\n",
      "                   coef    std err          z      P>|z|      [0.025      0.975]\n",
      "--------------------------------------------------------------------------------\n",
      "const           11.0471      3.539      3.122      0.002       4.111      17.983\n",
      "displacement    -0.0197      0.008     -2.464      0.014      -0.035      -0.004\n",
      "horsepower      -0.0429      0.027     -1.575      0.115      -0.096       0.010\n",
      "weight          -0.0012      0.001     -0.978      0.328      -0.004       0.001\n",
      "acceleration    -0.0264      0.172     -0.154      0.878      -0.364       0.311\n",
      "================================================================================\n",
      " Correlations                 displacement  horsepower    weight  acceleration\n",
      "displacement      1.000000    0.891990  0.933886     -0.530220\n",
      "horsepower        0.891990    1.000000  0.870864     -0.665614\n",
      "weight            0.933886    0.870864  1.000000     -0.373571\n",
      "acceleration     -0.530220   -0.665614 -0.373571      1.000000\n",
      "The error rate of the logistic model is  0.0975609756097561\n"
     ]
    }
   ],
   "source": [
    "pred_train = sm.add_constant(atTrain[predictors])\n",
    "pred_test = sm.add_constant(atTest[predictors])\n",
    "\n",
    "log_clf = sm.Logit(mpg_train,pred_train)\n",
    "log_clf_results = log_clf.fit()\n",
    "\n",
    "print(log_clf_results.summary()) \n",
    "print(' Correlations  ' , atTrain[predictors].corr())\n",
    "\n",
    "log_clf_predictions = log_clf_results.predict(pred_test)\n",
    "mpg_log_clf_predicted = np.array(log_clf_predictions > 0.5, dtype=bool)\n",
    "print('The error rate of the logistic model is ',np.mean(mpg_log_clf_predicted!=mpg_test))\n",
    "\n"
   ]
  },
  {
   "cell_type": "markdown",
   "id": "1f4095bc",
   "metadata": {},
   "source": [
    "(g) Perform naive Bayes on the training data in order to predict mpg01 using the variables that seemed most associated with mpg01 in (b). What is the test error of the model obtained?"
   ]
  },
  {
   "cell_type": "code",
   "execution_count": 65,
   "id": "13e5b776",
   "metadata": {},
   "outputs": [
    {
     "name": "stdout",
     "output_type": "stream",
     "text": [
      "The error rate of the NB model is  0.1024390243902439\n"
     ]
    }
   ],
   "source": [
    "NB_clf = GaussianNB()\n",
    "NB_clf.fit(pred_train,mpg_train)\n",
    "\n",
    "\n",
    "mpgnb_predicted = NB_clf.predict(pred_test)\n",
    "print('The error rate of the NB model is ',np.mean(mpgnb_predicted!=mpg_test))\n"
   ]
  },
  {
   "cell_type": "markdown",
   "id": "67966afa",
   "metadata": {},
   "source": [
    "(h) Perform KNN on the training data, with several values of K, in order to predict mpg01. Use only the variables that seemed most associated with mpg01 in (b). What test errors do you obtain? Which value of K seems to perform the best on this data set?"
   ]
  },
  {
   "cell_type": "code",
   "execution_count": 56,
   "id": "de524527",
   "metadata": {},
   "outputs": [
    {
     "name": "stdout",
     "output_type": "stream",
     "text": [
      "The test error rate for k = 1 - 10 are:  [0.11219512 0.14146341 0.11707317 0.11707317 0.11707317 0.11219512\n",
      " 0.10243902 0.10243902 0.10731707 0.10731707]\n"
     ]
    }
   ],
   "source": [
    "pred_train =  atTrain[predictors].values\n",
    "mpg_train = atTrain['MPG01'].values\n",
    "\n",
    "pred_test = atTest[predictors].values\n",
    "mpg_test = atTest['MPG01'].values\n",
    "\n",
    "\n",
    "train_error_rate = np.zeros(10)\n",
    "test_error_rate = np.zeros(10)\n",
    "K = np.arange(1,11)\n",
    "\n",
    "for i, j in enumerate(K):\n",
    "    # Construct a KNN classifier and fit\n",
    "    knn = KNeighborsClassifier(n_neighbors=j)\n",
    "    knn.fit(pred_train,mpg_train)\n",
    "    \n",
    "    # use the model on the training data to get training error rate\n",
    "    y_train_predicted = knn.predict(pred_train)\n",
    "    # compute the training error rate for this k-value\n",
    "    train_error_rate[i] = np.mean(y_train_predicted!=mpg_train)\n",
    "    \n",
    "    # Use the model on the held out test data\n",
    "    mpg_test_predicted = knn.predict(pred_test)\n",
    "    # compute the error rate for this k-value\n",
    "    test_error_rate[i] = np.mean(mpg_test_predicted!=mpg_test)\n",
    "    \n",
    "print('The test error rate for k = 1 - 10 are: ', test_error_rate)"
   ]
  },
  {
   "cell_type": "markdown",
   "id": "62d99278",
   "metadata": {},
   "source": [
    "##### 4.15. \n",
    "This problem involves writing functions."
   ]
  },
  {
   "cell_type": "markdown",
   "id": "b22df537",
   "metadata": {},
   "source": [
    "(a) Write a function, Power(), that prints out the result of raising 2 to the 3rd power. In other words, your function should compute 23 and print out the results.\n",
    "Hint: Recall that x^a raises x to the power a. Use the print() function to output the result."
   ]
  },
  {
   "cell_type": "code",
   "execution_count": 38,
   "id": "a495d6fe",
   "metadata": {},
   "outputs": [
    {
     "name": "stdout",
     "output_type": "stream",
     "text": [
      "8\n"
     ]
    }
   ],
   "source": [
    "def power():\n",
    "    \"\"\" print 2**3 \"\"\"\n",
    "    print(2**3)\n",
    "    \n",
    "power()"
   ]
  },
  {
   "cell_type": "markdown",
   "id": "f28cd5f7",
   "metadata": {},
   "source": [
    "(b) Create a new function, Power2(), that allows you to pass any two numbers, x and a, and prints out the value of x^a. You can do this by beginning your function with the line\n",
    "> Power2 <- function(x, a) {\n",
    "\n",
    "You should be able to call your function by entering, for instance,\n",
    "> Power2(3, 8)\n",
    "\n",
    "on the command line. This should output the value of 38, namely, 6, 561."
   ]
  },
  {
   "cell_type": "code",
   "execution_count": 39,
   "id": "cd45d741",
   "metadata": {},
   "outputs": [
    {
     "name": "stdout",
     "output_type": "stream",
     "text": [
      "6561\n"
     ]
    }
   ],
   "source": [
    "\n",
    "def power2(x,a):\n",
    "    \"\"\" print x to the power of a \"\"\"\n",
    "    print(x**a)\n",
    "    \n",
    "power2(3,8)\n"
   ]
  },
  {
   "cell_type": "markdown",
   "id": "bf09be96",
   "metadata": {},
   "source": [
    "(c) Using the Power2() function that you just wrote, compute 103, 817, and 1313."
   ]
  },
  {
   "cell_type": "code",
   "execution_count": 40,
   "id": "5a5d7ad5",
   "metadata": {},
   "outputs": [
    {
     "name": "stdout",
     "output_type": "stream",
     "text": [
      "1000\n",
      "2251799813685248\n",
      "2248091\n"
     ]
    }
   ],
   "source": [
    "power2(10,3)\n",
    "power2(8,17)\n",
    "power2(131,3)"
   ]
  },
  {
   "cell_type": "markdown",
   "id": "0fd69a24",
   "metadata": {},
   "source": [
    "(d) Now create a new function, Power3(), that actually returns the result x^a as an R object, rather than simply printing it to the screen. That is, if you store the value x^a in an object called result within your function, then you can simply return() this result, using the following line:\n",
    "> return(result)\n",
    "\n",
    "The line above should be the last line in your function, before\n",
    "the } symbol."
   ]
  },
  {
   "cell_type": "code",
   "execution_count": 41,
   "id": "bdc3ec9e",
   "metadata": {},
   "outputs": [],
   "source": [
    "def power3(x,a):\n",
    "    \"\"\" return x raised to a \"\"\"\n",
    "    return(x**a)"
   ]
  },
  {
   "cell_type": "markdown",
   "id": "e9e394ab",
   "metadata": {},
   "source": [
    "(e) Now using the Power3() function, create a plot of f(x) = x2. The x-axis should display a range of integers from 1 to 10, and the y-axis should display x2. Label the axes appropriately, and use an appropriate title for the figure. Consider displaying either the x-axis, the y-axis, or both on the log-scale. You can do this by using log = \"x\", log = \"y\", or log = \"xy\" as arguments to the plot() function."
   ]
  },
  {
   "cell_type": "code",
   "execution_count": 42,
   "id": "d206d347",
   "metadata": {},
   "outputs": [
    {
     "data": {
      "text/plain": [
       "Text(0, 0.5, 'log(y)')"
      ]
     },
     "execution_count": 42,
     "metadata": {},
     "output_type": "execute_result"
    },
    {
     "data": {
      "image/png": "[encoded data removed]",
      "text/plain": [
       "<Figure size 1152x288 with 4 Axes>"
      ]
     },
     "metadata": {
      "needs_background": "light"
     },
     "output_type": "display_data"
    }
   ],
   "source": [
    "x = np.arange(1,10)\n",
    "y = power3(x,2)\n",
    "\n",
    "fig, (ax1,ax2,ax3,ax4) = plt.subplots(1,4, figsize=(16,4))\n",
    "\n",
    "ax1.plot(x,y,linestyle='-.', marker='o')\n",
    "ax1.set_xlabel('x')\n",
    "ax1.set_ylabel('y')\n",
    "\n",
    "ax2.semilogx(x,y, linestyle='-.', marker='o')\n",
    "ax2.set_xlabel('log(x)')\n",
    "ax2.set_ylabel('y')\n",
    "\n",
    "ax3.semilogy(x,y, linestyle='-.', marker='o')\n",
    "ax3.set_xlabel('x')\n",
    "ax3.set_ylabel('log(y)')\n",
    "\n",
    "ax4.loglog(x,y, linestyle='-.', marker='o')\n",
    "ax4.set_xlabel('log(x)')\n",
    "ax4.set_ylabel('log(y)')\n",
    "\n"
   ]
  },
  {
   "cell_type": "markdown",
   "id": "8284954b",
   "metadata": {},
   "source": [
    "(f)Create a function, PlotPower(), that allows you to create a plot of x against x^a for a fixed a and for a range of values of x. For instance, if you call\n",
    "> PlotPower(1:10, 3)\n",
    "\n",
    "\n",
    "then a plot should be created with an x-axis taking on values 1,2,...,10, and a y-axis taking on values 13,23,...,103."
   ]
  },
  {
   "cell_type": "code",
   "execution_count": 45,
   "id": "be72531c",
   "metadata": {},
   "outputs": [
    {
     "data": {
      "image/png": "[encoded data removed]",
      "text/plain": [
       "<Figure size 576x288 with 1 Axes>"
      ]
     },
     "metadata": {
      "needs_background": "light"
     },
     "output_type": "display_data"
    }
   ],
   "source": [
    "def plot_power(x,a):\n",
    "    \"\"\"Plots x vs x**a \"\"\"\n",
    "    y = x**a\n",
    "    \n",
    "    fig, ax = plt.subplots(figsize=(8,4))\n",
    "    ax.plot(x,y, linestyle = '-', marker = 'o')\n",
    "    ax.set_xlabel('x')\n",
    "    ax.set_ylabel('x^'+str(a))\n",
    "    \n",
    "plot_power(np.arange(1,11),3)"
   ]
  },
  {
   "cell_type": "markdown",
   "id": "d012edb0",
   "metadata": {},
   "source": [
    "##### 4.16. \n",
    "Using the Boston data set, fit classification models in order to predict whether a given census tract has a crime rate above or below the me- dian. Explore logistic regression, LDA, naive Bayes, and KNN models using various subsets of the predictors. Describe your findings.\n",
    "Hint: You will have to create the response variable yourself, using the variables that are contained in the Boston data set.\n",
    "return()"
   ]
  },
  {
   "cell_type": "code",
   "execution_count": 30,
   "id": "96337201",
   "metadata": {},
   "outputs": [
    {
     "data": {
      "text/html": [
       "<div>\n",
       "<style scoped>\n",
       "    .dataframe tbody tr th:only-of-type {\n",
       "        vertical-align: middle;\n",
       "    }\n",
       "\n",
       "    .dataframe tbody tr th {\n",
       "        vertical-align: top;\n",
       "    }\n",
       "\n",
       "    .dataframe thead th {\n",
       "        text-align: right;\n",
       "    }\n",
       "</style>\n",
       "<table border=\"1\" class=\"dataframe\">\n",
       "  <thead>\n",
       "    <tr style=\"text-align: right;\">\n",
       "      <th></th>\n",
       "      <th>CRIM</th>\n",
       "      <th>ZN</th>\n",
       "      <th>INDUS</th>\n",
       "      <th>CHAS</th>\n",
       "      <th>NOX</th>\n",
       "      <th>RM</th>\n",
       "      <th>AGE</th>\n",
       "      <th>DIS</th>\n",
       "      <th>RAD</th>\n",
       "      <th>TAX</th>\n",
       "      <th>PTRATIO</th>\n",
       "      <th>B</th>\n",
       "      <th>LSTAT</th>\n",
       "      <th>MEDV</th>\n",
       "      <th>CRIM01</th>\n",
       "    </tr>\n",
       "  </thead>\n",
       "  <tbody>\n",
       "    <tr>\n",
       "      <th>0</th>\n",
       "      <td>0.00632</td>\n",
       "      <td>18.0</td>\n",
       "      <td>2.31</td>\n",
       "      <td>0.0</td>\n",
       "      <td>0.538</td>\n",
       "      <td>6.575</td>\n",
       "      <td>65.2</td>\n",
       "      <td>4.0900</td>\n",
       "      <td>1.0</td>\n",
       "      <td>296.0</td>\n",
       "      <td>15.3</td>\n",
       "      <td>396.90</td>\n",
       "      <td>4.98</td>\n",
       "      <td>24.0</td>\n",
       "      <td>False</td>\n",
       "    </tr>\n",
       "    <tr>\n",
       "      <th>1</th>\n",
       "      <td>0.02731</td>\n",
       "      <td>0.0</td>\n",
       "      <td>7.07</td>\n",
       "      <td>0.0</td>\n",
       "      <td>0.469</td>\n",
       "      <td>6.421</td>\n",
       "      <td>78.9</td>\n",
       "      <td>4.9671</td>\n",
       "      <td>2.0</td>\n",
       "      <td>242.0</td>\n",
       "      <td>17.8</td>\n",
       "      <td>396.90</td>\n",
       "      <td>9.14</td>\n",
       "      <td>21.6</td>\n",
       "      <td>False</td>\n",
       "    </tr>\n",
       "    <tr>\n",
       "      <th>2</th>\n",
       "      <td>0.02729</td>\n",
       "      <td>0.0</td>\n",
       "      <td>7.07</td>\n",
       "      <td>0.0</td>\n",
       "      <td>0.469</td>\n",
       "      <td>7.185</td>\n",
       "      <td>61.1</td>\n",
       "      <td>4.9671</td>\n",
       "      <td>2.0</td>\n",
       "      <td>242.0</td>\n",
       "      <td>17.8</td>\n",
       "      <td>392.83</td>\n",
       "      <td>4.03</td>\n",
       "      <td>34.7</td>\n",
       "      <td>False</td>\n",
       "    </tr>\n",
       "    <tr>\n",
       "      <th>3</th>\n",
       "      <td>0.03237</td>\n",
       "      <td>0.0</td>\n",
       "      <td>2.18</td>\n",
       "      <td>0.0</td>\n",
       "      <td>0.458</td>\n",
       "      <td>6.998</td>\n",
       "      <td>45.8</td>\n",
       "      <td>6.0622</td>\n",
       "      <td>3.0</td>\n",
       "      <td>222.0</td>\n",
       "      <td>18.7</td>\n",
       "      <td>394.63</td>\n",
       "      <td>2.94</td>\n",
       "      <td>33.4</td>\n",
       "      <td>False</td>\n",
       "    </tr>\n",
       "    <tr>\n",
       "      <th>4</th>\n",
       "      <td>0.06905</td>\n",
       "      <td>0.0</td>\n",
       "      <td>2.18</td>\n",
       "      <td>0.0</td>\n",
       "      <td>0.458</td>\n",
       "      <td>7.147</td>\n",
       "      <td>54.2</td>\n",
       "      <td>6.0622</td>\n",
       "      <td>3.0</td>\n",
       "      <td>222.0</td>\n",
       "      <td>18.7</td>\n",
       "      <td>396.90</td>\n",
       "      <td>5.33</td>\n",
       "      <td>36.2</td>\n",
       "      <td>False</td>\n",
       "    </tr>\n",
       "  </tbody>\n",
       "</table>\n",
       "</div>"
      ],
      "text/plain": [
       "      CRIM    ZN  INDUS  CHAS    NOX     RM   AGE     DIS  RAD    TAX  \\\n",
       "0  0.00632  18.0   2.31   0.0  0.538  6.575  65.2  4.0900  1.0  296.0   \n",
       "1  0.02731   0.0   7.07   0.0  0.469  6.421  78.9  4.9671  2.0  242.0   \n",
       "2  0.02729   0.0   7.07   0.0  0.469  7.185  61.1  4.9671  2.0  242.0   \n",
       "3  0.03237   0.0   2.18   0.0  0.458  6.998  45.8  6.0622  3.0  222.0   \n",
       "4  0.06905   0.0   2.18   0.0  0.458  7.147  54.2  6.0622  3.0  222.0   \n",
       "\n",
       "   PTRATIO       B  LSTAT  MEDV  CRIM01  \n",
       "0     15.3  396.90   4.98  24.0   False  \n",
       "1     17.8  396.90   9.14  21.6   False  \n",
       "2     17.8  392.83   4.03  34.7   False  \n",
       "3     18.7  394.63   2.94  33.4   False  \n",
       "4     18.7  396.90   5.33  36.2   False  "
      ]
     },
     "execution_count": 30,
     "metadata": {},
     "output_type": "execute_result"
    }
   ],
   "source": [
    "#Loading and preparing dataset\n",
    "\n",
    "BOS = load_boston()\n",
    "predictors = BOS.data\n",
    "response = BOS.target\n",
    "boston_data = np.column_stack([predictors,response])\n",
    "col_names = np.append(BOS.feature_names, 'MEDV')\n",
    "BOS = pd.DataFrame(boston_data, columns = col_names)\n",
    "BOS['CRIM01'] = pd.Series(BOS.CRIM > BOS.CRIM.median(), index=BOS.index)\n",
    "BOS.head()"
   ]
  },
  {
   "cell_type": "code",
   "execution_count": 37,
   "id": "25a24da2",
   "metadata": {},
   "outputs": [
    {
     "name": "stdout",
     "output_type": "stream",
     "text": [
      "Optimization terminated successfully.\n",
      "         Current function value: 0.304573\n",
      "         Iterations 8\n",
      "                           Logit Regression Results                           \n",
      "==============================================================================\n",
      "Dep. Variable:                      y   No. Observations:                  243\n",
      "Model:                          Logit   Df Residuals:                      237\n",
      "Method:                           MLE   Df Model:                            5\n",
      "Date:                Sun, 06 Feb 2022   Pseudo R-squ.:                  0.5605\n",
      "Time:                        22:49:02   Log-Likelihood:                -74.011\n",
      "converged:                       True   LL-Null:                       -168.42\n",
      "Covariance Type:            nonrobust   LLR p-value:                 7.017e-39\n",
      "==============================================================================\n",
      "                 coef    std err          z      P>|z|      [0.025      0.975]\n",
      "------------------------------------------------------------------------------\n",
      "const        -25.5249      4.157     -6.140      0.000     -33.672     -17.378\n",
      "NOX           33.6549      5.366      6.272      0.000      23.139      44.171\n",
      "AGE           -0.0125      0.012     -1.029      0.303      -0.036       0.011\n",
      "PTRATIO        0.3145      0.117      2.682      0.007       0.085       0.544\n",
      "LSTAT          0.0481      0.055      0.868      0.386      -0.061       0.157\n",
      "MEDV           0.0810      0.040      2.040      0.041       0.003       0.159\n",
      "==============================================================================\n",
      "The error rate of the logistic model is  0.13307984790874525\n"
     ]
    }
   ],
   "source": [
    "#Logistic regression model\n",
    "\n",
    "rows = np.random.choice([True, False], 506)\n",
    "BOS_train = BOS.loc[rows]\n",
    "BOS_test = BOS.loc[~rows]\n",
    "\n",
    "predictors = ['NOX', 'AGE', 'PTRATIO', 'LSTAT', 'MEDV']\n",
    "PRED_train = sm.add_constant(BOS_train[predictors])\n",
    "PRED_test = sm.add_constant(BOS_test[predictors])\n",
    "\n",
    "CRIM_train = BOS_train.CRIM01.values\n",
    "CRIM_test = BOS_test.CRIM01.values\n",
    "\n",
    "q416 = sm.Logit(CRIM_train, PRED_train)\n",
    "q416results = q416.fit()\n",
    "print(q416results.summary())\n",
    "\n",
    "CRIM_predicted = q416results.predict(PRED_test) > 0.5\n",
    "print('The error rate of the logistic model is ',np.mean(CRIM_predicted!=CRIM_test))"
   ]
  },
  {
   "cell_type": "code",
   "execution_count": 35,
   "id": "c8e75199",
   "metadata": {},
   "outputs": [
    {
     "name": "stdout",
     "output_type": "stream",
     "text": [
      "Class Priors = [0.52123552 0.47876448]\n",
      "Class Means = [ 0.47057556 51.14074074 17.92740741  9.49755556 24.96962963] [ 0.63814516 85.03951613 18.71693548 16.16483871 19.82419355]\n",
      "Coeffecients = [[2.56654640e+01 2.18041574e-02 2.84402649e-01 4.04767902e-02\n",
      "  1.00117220e-01]]\n",
      "The error rate of the LDA model is  0.1417004048582996\n"
     ]
    }
   ],
   "source": [
    "#LDA\n",
    "\n",
    "PRED_train = BOS_train[predictors].values\n",
    "PRED_test = BOS_test[predictors].values\n",
    "\n",
    "CRIM_train = BOS_train.CRIM01.values\n",
    "CRIM_test = BOS_test.CRIM01.values\n",
    "\n",
    "LDA_clf = LDA(solver='lsqr',store_covariance=True)\n",
    "LDA_clf.fit(PRED_train,CRIM_train)\n",
    "\n",
    "print('Class Priors =', LDA_clf.priors_)\n",
    "print('Class Means =', LDA_clf.means_[0], LDA_clf.means_[1])\n",
    "print('Coeffecients =', LDA_clf.coef_)\n",
    "\n",
    "LDACRIM_predicted = LDA_clf.predict(PRED_test)\n",
    "print('The error rate of the LDA model is ',np.mean(LDACRIM_predicted!=CRIM_test))"
   ]
  },
  {
   "cell_type": "code",
   "execution_count": 36,
   "id": "e5180978",
   "metadata": {},
   "outputs": [
    {
     "name": "stdout",
     "output_type": "stream",
     "text": [
      "The test error rate for k = 1 - 10 are:  [0.23076923 0.25101215 0.19838057 0.21862348 0.19838057 0.21052632\n",
      " 0.19838057 0.20242915 0.1902834  0.19433198]\n",
      "The train error rate for k = 1 - 10 are:  [0.         0.15444015 0.13899614 0.17374517 0.16988417 0.16988417\n",
      " 0.19305019 0.18532819 0.19305019 0.19305019]\n"
     ]
    }
   ],
   "source": [
    "#KNN\n",
    "\n",
    "train_error_rate = np.zeros(10)\n",
    "test_error_rate = np.zeros(10)\n",
    "K = np.arange(1,11)\n",
    "\n",
    "for i, j in enumerate(K):\n",
    "    # Construct a KNN classifier and fit\n",
    "    knn = KNeighborsClassifier(n_neighbors=j)\n",
    "    knn.fit(PRED_train,CRIM_train)\n",
    "    \n",
    "    # use the model on the training data to get training error rate\n",
    "    CRIM_train_predicted = knn.predict(PRED_train)\n",
    "    # compute the training error rate for this k-value\n",
    "    train_error_rate[i] = np.mean(CRIM_train_predicted!=CRIM_train)\n",
    "    \n",
    "    # Use the model on the held out test data\n",
    "    CRIM_test_predicted = knn.predict(PRED_test)\n",
    "    # compute the error rate for this k-value\n",
    "    test_error_rate[i] = np.mean(CRIM_test_predicted!=CRIM_test)\n",
    "    \n",
    "print('The test error rate for k = 1 - 10 are: ', test_error_rate)\n",
    "\n",
    "print('The train error rate for k = 1 - 10 are: ', train_error_rate)"
   ]
  }
 ],
 "metadata": {
  "kernelspec": {
   "display_name": "Python 3",
   "language": "python",
   "name": "python3"
  },
  "language_info": {
   "codemirror_mode": {
    "name": "ipython",
    "version": 3
   },
   "file_extension": ".py",
   "mimetype": "text/x-python",
   "name": "python",
   "nbconvert_exporter": "python",
   "pygments_lexer": "ipython3",
   "version": "3.8.8"
  }
 },
 "nbformat": 4,
 "nbformat_minor": 5
}
